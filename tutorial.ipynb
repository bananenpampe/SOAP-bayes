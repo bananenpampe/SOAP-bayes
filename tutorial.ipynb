{
 "cells": [
  {
   "cell_type": "markdown",
   "id": "416fd49b-016d-41ea-8d2f-f37c4f088494",
   "metadata": {},
   "source": [
    "# Feature optimization"
   ]
  },
  {
   "cell_type": "markdown",
   "id": "2e6c52b9-2ffb-4faa-993d-a03e8b35b57e",
   "metadata": {},
   "source": [
    "In the following cells, we import the necessary modules and load the train and testset"
   ]
  },
  {
   "cell_type": "code",
   "execution_count": 5,
   "id": "b6bf88ca-2023-4f2c-92b7-caee8423ba21",
   "metadata": {
    "tags": []
   },
   "outputs": [],
   "source": [
    "from ase.io import read, write\n",
    "import numpy as np\n",
    "import time\n",
    "from sklearn.linear_model import Ridge\n",
    "from rascal.representations import SphericalInvariants as SOAP\n",
    "from rascal.utils import get_optimal_radial_basis_hypers\n",
    "from rascal.neighbourlist.structure_manager import mask_center_atoms_by_species\n",
    "from feature_skcosmo import atom_groups_by_frame\n",
    "from skopt.space import Real, Integer\n",
    "from skopt.utils import use_named_args\n",
    "from skopt import gp_minimize\n",
    "from sklearn.model_selection import GroupKFold, cross_val_score\n",
    "from sklearn.metrics import mean_squared_error\n",
    "from skopt import callbacks, dump, load\n",
    "from skopt.callbacks import CheckpointSaver\n",
    "from sklearn.pipeline import Pipeline\n",
    "\n",
    "\n",
    "#importing some speed up helpers\n",
    "from helpers import get_features_in_parallel, get_optimal_radial_basis_hypers_parallel"
   ]
  },
  {
   "cell_type": "code",
   "execution_count": 6,
   "id": "75e94a75-97f3-4223-9906-2e19470ab1d1",
   "metadata": {
    "tags": []
   },
   "outputs": [
    {
     "name": "stdout",
     "output_type": "stream",
     "text": [
      "using 444 structures\n",
      "13442 atomic environments\n"
     ]
    }
   ],
   "source": [
    "#loading a subset of the CSD-NMR dataset\n",
    "\n",
    "\n",
    "train_structures = read(\"CSD-train.xyz\",index=\":\",format=\"extxyz\")\n",
    "test_structures = read(\"CSD-test.xyz\",index=\":\",format=\"extxyz\")\n",
    "\n",
    "#only build a model for 13C-NMR shifts\n",
    "for frame in [*train_structures,*test_structures]: mask_center_atoms_by_species(frame,species_select=[6])\n",
    "for frame in [*train_structures,*test_structures]: frame.wrap(eps=1e-10)\n",
    "y_train = np.concatenate([frame.arrays[\"cs_iso\"][frame.arrays[\"center_atoms_mask\"]]for frame in train_structures])\n",
    "y_test = np.concatenate([frame.arrays[\"cs_iso\"][frame.arrays[\"center_atoms_mask\"]]for frame in test_structures])\n",
    "\n",
    "#obtain structure groups for group-wise CV\n",
    "atom_groups = atom_groups_by_frame(train_structures)\n",
    "\n",
    "#use radial spectrum features to restrict memory and computational demand\n",
    "hypers = dict(soap_type=\"PowerSpectrum\",\n",
    "              interaction_cutoff=4.5,\n",
    "              max_radial=5,\n",
    "              max_angular=5,\n",
    "              gaussian_sigma_constant=0.3,\n",
    "              gaussian_sigma_type=\"Constant\",\n",
    "              radial_basis=\"GTO\",\n",
    "              normalize=True,\n",
    "              cutoff_smooth_width=0.3,\n",
    "              cutoff_function_type=\"RadialScaling\",\n",
    "              optimization=\n",
    "                    dict(\n",
    "                            Spline=dict(\n",
    "                               accuracy=1.0e-05\n",
    "                            )\n",
    "                        ),\n",
    "              cutoff_function_parameters= dict(rate=1,\n",
    "                    scale=2.0,\n",
    "                    exponent=3\n",
    "                        ),\n",
    "              compute_gradients=False,\n",
    "              expansion_by_species_method=\"user defined\",\n",
    "              global_species=[1, 6, 7, 8, 16]\n",
    "              )\n",
    "\n",
    "\n",
    "print(\"using {} structures\".format(len(train_structures)))\n",
    "print(\"{} atomic environments\".format(y_train.shape[0]))"
   ]
  },
  {
   "cell_type": "markdown",
   "id": "57eb83a2-a9d6-4680-a610-334730b4daca",
   "metadata": {},
   "source": [
    "### We continue to build a custom objective"
   ]
  },
  {
   "cell_type": "markdown",
   "id": "4e7ac445-fc5b-4bcd-b70c-75f8951d70aa",
   "metadata": {},
   "source": [
    "We first will de"
   ]
  },
  {
   "cell_type": "code",
   "execution_count": 50,
   "id": "656c9af9-e18f-455b-8d63-346665cebd92",
   "metadata": {},
   "outputs": [],
   "source": [
    "#define the searchspace\n",
    "space = [Real(10**-6, 10**-1, \"log-uniform\", name='alpha'),\n",
    "        Real(1.,3.0, \"uniform\", name=\"scale\"),\n",
    "        Real(3.0,7.0, \"uniform\", name=\"interaction_cutoff\"),\n",
    "        Real(0.05,0.5, \"uniform\", name=\"gaussian_sigma_constant\"),\n",
    "        Real(0.1,20., \"uniform\", name=\"exponent\"),\n",
    "        Real(0.1,20., \"uniform\", name=\"rate\")\n",
    "        ]"
   ]
  },
  {
   "cell_type": "code",
   "execution_count": 54,
   "id": "641fc9d7-476a-4187-9d90-f499c8a8f2c4",
   "metadata": {
    "tags": []
   },
   "outputs": [],
   "source": [
    "feature_gen_time = 0\n",
    "hyper_opt_time = 0\n",
    "model_fit_time = 0\n",
    "\n",
    "@use_named_args(space)\n",
    "def soap_objective(**params):\n",
    "    random_state = np.random.RandomState(0)\n",
    "    global feature_gen_time\n",
    "    global hyper_opt_time\n",
    "    global model_fit_time\n",
    "    \n",
    "    new_params = params.copy()\n",
    "    new_hypers = hypers.copy()\n",
    "    \n",
    "    \n",
    "    new_hypers[\"interaction_cutoff\"] = new_params[\"interaction_cutoff\"]\n",
    "    new_hypers[\"gaussian_sigma_constant\"] = new_params[\"gaussian_sigma_constant\"]\n",
    "    new_hypers[\"cutoff_function_parameters\"] = {\"rate\":new_params[\"rate\"],\n",
    "                                               \"exponent\":new_params[\"exponent\"],\n",
    "                                               \"scale\":new_params[\"scale\"]}\n",
    "    \n",
    "    start_time = time.time()\n",
    "    new_hypers = get_optimal_radial_basis_hypers_parallel(new_hypers,train_structures,expanded_max_radial=20)\n",
    "    #new_hypers = get_optimal_radial_basis_hypers_parallel(new_hypers, train_structures, blocksize=5, expanded_max_radial=20)\n",
    "    hyper_opt_time += time.time() - start_time\n",
    "    \n",
    "    \n",
    "    model.set_params(alpha=new_params[\"alpha\"])\n",
    "\n",
    "    start_time = time.time()\n",
    "    #representation = SOAP(**new_hypers)\n",
    "    #X_train = representation.transform(train_structures).get_features(representation)\n",
    "    X_train = get_features_in_parallel(train_structures,SOAP,new_hypers)\n",
    "    feature_gen_time += time.time() - start_time\n",
    "    \n",
    "    start_time = time.time()\n",
    "    #in production it might make sense to increase the k-fold to 5, given that bayes opt makes the noise free asummption\n",
    "    splits = list(GroupKFold(n_splits=3).split(X_train,y_train,groups=atom_groups))\n",
    "    score = -np.mean(cross_val_score(model, X_train, y_train, cv=splits, n_jobs=-1,\n",
    "                                    scoring=\"neg_mean_squared_error\"))\n",
    "    model_fit_time += time.time() - start_time\n",
    "    print(\"--eval--\")\n",
    "    return score\n"
   ]
  },
  {
   "cell_type": "code",
   "execution_count": 73,
   "id": "e104cfc4-b9c0-40c6-bf11-7e66ec1c2154",
   "metadata": {
    "tags": []
   },
   "outputs": [
    {
     "name": "stdout",
     "output_type": "stream",
     "text": [
      "starting\n",
      "--eval--\n",
      "--eval--\n",
      "--eval--\n",
      "--eval--\n",
      "--eval--\n",
      "--eval--\n",
      "--eval--\n",
      "--eval--\n",
      "--eval--\n",
      "--eval--\n",
      "--eval--\n",
      "--eval--\n",
      "--eval--\n",
      "--eval--\n",
      "--eval--\n",
      "--eval--\n",
      "--eval--\n",
      "--eval--\n",
      "--eval--\n",
      "--eval--\n",
      "--eval--\n",
      "--eval--\n",
      "--eval--\n",
      "--eval--\n",
      "--eval--\n",
      "--- 25 steps took 366.0116500854492 seconds ---\n",
      "--- feature generation took 374.8042507171631 seconds ---\n",
      "--- model fitting took 660.0854134559631 seconds ---\n",
      "--- hyper optimization took 430.22706937789917 seconds ---\n",
      "finished\n"
     ]
    }
   ],
   "source": [
    "model = Ridge()\n",
    "\n",
    "# We provide a reasonable first guess.\n",
    "# Parameters reported in 10.1039/C9CP04489B Engel et al.  \n",
    "# model alpha, scale, cutoff, sigma, exponent, rate\n",
    "reasonable_guess = [1e-05,2.0,4.5,0.3,3,1]\n",
    "\n",
    "checkpoint_saver = CheckpointSaver(\"./checkpoint_solver.pkl\", compress=9)\n",
    "\n",
    "print(\"starting\")\n",
    "start_time_total = time.time()\n",
    "\n",
    "# provide search space, number of total objective function calls, a sead, an initial guess (optional)\n",
    "# the number of jobs to optimize the aquisition function (LBFGS) and a callback (checkpoint saver)\n",
    "res_gp = gp_minimize(soap_objective, space, n_calls=25, random_state=0, x0=reasonable_guess, n_jobs=-1, callback=[checkpoint_saver])\n",
    "\n",
    "print(\"--- 25 steps took %s seconds ---\" % (time.time() - start_time_total))\n",
    "print(\"--- feature generation took %s seconds ---\" % (feature_gen_time))\n",
    "print(\"--- model fitting took %s seconds ---\" % (model_fit_time))\n",
    "print(\"--- hyper optimization took %s seconds ---\" % (hyper_opt_time))\n",
    "\n",
    "dump(res_gp, \"solver_final.pkl\")\n",
    "\n",
    "print(\"finished\")"
   ]
  },
  {
   "cell_type": "markdown",
   "id": "a8300813-ca25-4cea-ad9a-21a235a448ec",
   "metadata": {
    "tags": []
   },
   "source": [
    "### Skopt provides nice helper functions to analyze the convergence and results"
   ]
  },
  {
   "cell_type": "code",
   "execution_count": 74,
   "id": "e58d3f9a-983d-4758-8c58-1a40fecee50d",
   "metadata": {},
   "outputs": [],
   "source": [
    "from skopt.plots import plot_convergence, plot_objective"
   ]
  },
  {
   "cell_type": "code",
   "execution_count": 75,
   "id": "0c3e1964-37e6-480c-bc81-253c851bf2c4",
   "metadata": {},
   "outputs": [
    {
     "data": {
      "image/png": "[encoded data removed]",
      "text/plain": [
       "<Figure size 432x288 with 1 Axes>"
      ]
     },
     "metadata": {
      "needs_background": "light"
     },
     "output_type": "display_data"
    }
   ],
   "source": [
    "# uses the OptimizeResult object returned from gp_minimize\n",
    "_ = plot_convergence(res_gp)"
   ]
  },
  {
   "cell_type": "code",
   "execution_count": 36,
   "id": "d9321728-063b-4234-a1e6-f0f56ec3ed32",
   "metadata": {},
   "outputs": [],
   "source": [
    "#we can also load the last OptimizeResult\n",
    "res_gp = load(\"checkpoint_solver.pkl\")"
   ]
  },
  {
   "cell_type": "markdown",
   "id": "72422b41-d6f3-4130-aad2-e23f4983aed4",
   "metadata": {},
   "source": [
    "### Final and optimized hyperparameters"
   ]
  },
  {
   "cell_type": "code",
   "execution_count": 76,
   "id": "102812a8-cd5e-4446-baf5-5381d986fae3",
   "metadata": {},
   "outputs": [
    {
     "data": {
      "text/plain": [
       "[0.005351748983777069,\n",
       " 2.2303983151034843,\n",
       " 4.124233562995925,\n",
       " 0.16202296046236847,\n",
       " 13.774379713918043,\n",
       " 13.475528279569906]"
      ]
     },
     "execution_count": 76,
     "metadata": {},
     "output_type": "execute_result"
    }
   ],
   "source": [
    "res_gp.x"
   ]
  },
  {
   "cell_type": "markdown",
   "id": "e0e281c7-f829-4ab1-89ab-9d8fb4650ef8",
   "metadata": {},
   "source": [
    "# Model optimization"
   ]
  },
  {
   "cell_type": "code",
   "execution_count": 77,
   "id": "0cb207c3-ba7e-416d-a77c-9eecabab2cff",
   "metadata": {},
   "outputs": [],
   "source": [
    "from skopt import BayesSearchCV"
   ]
  },
  {
   "cell_type": "code",
   "execution_count": 78,
   "id": "898b928d-51bd-4453-972f-9b5a5f72ab14",
   "metadata": {},
   "outputs": [],
   "source": [
    "optimal_hypers = hypers.copy()\n",
    "# model alpha, scale, cutoff, sigma, exponent, rate\n",
    "optimal_hypers[\"interaction_cutoff\"] = res_gp.x[2]\n",
    "optimal_hypers[\"gaussian_sigma_constant\"] = res_gp.x[3]\n",
    "optimal_hypers[\"cutoff_function_parameters\"] = {\"rate\":res_gp.x[5],\n",
    "                                               \"exponent\":res_gp.x[4],\n",
    "                                               \"scale\":res_gp.x[1]}\n",
    "\n",
    "optimal_hypers = get_optimal_radial_basis_hypers(optimal_hypers, train_structures, expanded_max_radial=20)"
   ]
  },
  {
   "cell_type": "code",
   "execution_count": 79,
   "id": "ea241009-535b-4d9e-9d94-ae4e48507a33",
   "metadata": {},
   "outputs": [],
   "source": [
    "representation = SOAP(**optimal_hypers)\n",
    "Xtrain = representation.transform(train_structures).get_features(representation)\n",
    "Xtest = representation.transform(test_structures).get_features(representation)\n"
   ]
  },
  {
   "cell_type": "code",
   "execution_count": 67,
   "id": "ba4d15bb-8c2b-47c5-a1ea-ab68b4a96ab6",
   "metadata": {},
   "outputs": [],
   "source": [
    "#from sklearn.kernel_ridge import KernelRidge\n",
    "#from sklearn.kernel_approximation import Nystroem\n",
    "#NystroemKRR = Pipeline([(\"map\",Nystroem(n_components=1000,n_jobs=4)),(\"model\",Ridge())])\n",
    "#model_space = {\"map__gamma\":Real(10**-6, 10**1, \"log-uniform\"),\"model__alpha\": Real(10**-6, 10**1, \"log-uniform\")}"
   ]
  },
  {
   "cell_type": "code",
   "execution_count": 80,
   "id": "94648b53-8d5d-4d84-a07c-92e27d98d804",
   "metadata": {},
   "outputs": [],
   "source": [
    "model_space = {\"alpha\":Real(10**-8, 10**1, \"log-uniform\")}\n",
    "\n",
    "clf_bayes = BayesSearchCV(Ridge(),n_iter=15,search_spaces=model_space,scoring=\"neg_mean_squared_error\",cv=GroupKFold(n_splits=5),random_state=0,verbose=1)"
   ]
  },
  {
   "cell_type": "code",
   "execution_count": 81,
   "id": "f1a3a31d-34ba-4603-9d9d-4a7b8721e5a3",
   "metadata": {
    "tags": []
   },
   "outputs": [
    {
     "name": "stdout",
     "output_type": "stream",
     "text": [
      "Fitting 5 folds for each of 1 candidates, totalling 5 fits\n",
      "Fitting 5 folds for each of 1 candidates, totalling 5 fits\n",
      "Fitting 5 folds for each of 1 candidates, totalling 5 fits\n",
      "Fitting 5 folds for each of 1 candidates, totalling 5 fits\n",
      "Fitting 5 folds for each of 1 candidates, totalling 5 fits\n",
      "Fitting 5 folds for each of 1 candidates, totalling 5 fits\n",
      "Fitting 5 folds for each of 1 candidates, totalling 5 fits\n",
      "Fitting 5 folds for each of 1 candidates, totalling 5 fits\n",
      "Fitting 5 folds for each of 1 candidates, totalling 5 fits\n",
      "Fitting 5 folds for each of 1 candidates, totalling 5 fits\n",
      "Fitting 5 folds for each of 1 candidates, totalling 5 fits\n",
      "Fitting 5 folds for each of 1 candidates, totalling 5 fits\n",
      "Fitting 5 folds for each of 1 candidates, totalling 5 fits\n",
      "Fitting 5 folds for each of 1 candidates, totalling 5 fits\n",
      "Fitting 5 folds for each of 1 candidates, totalling 5 fits\n"
     ]
    },
    {
     "data": {
      "text/plain": [
       "BayesSearchCV(cv=GroupKFold(n_splits=5), estimator=Ridge(), n_iter=15,\n",
       "              random_state=0, scoring='neg_mean_squared_error',\n",
       "              search_spaces={'alpha': Real(low=1e-08, high=10, prior='log-uniform', transform='normalize')},\n",
       "              verbose=1)"
      ]
     },
     "execution_count": 81,
     "metadata": {},
     "output_type": "execute_result"
    }
   ],
   "source": [
    "clf_bayes.fit(Xtrain,y_train,groups=atom_groups)"
   ]
  },
  {
   "cell_type": "code",
   "execution_count": 82,
   "id": "08976e8a-448e-41ce-a45a-85794a637eeb",
   "metadata": {},
   "outputs": [
    {
     "data": {
      "text/plain": [
       "0.0013862442939700352"
      ]
     },
     "execution_count": 82,
     "metadata": {},
     "output_type": "execute_result"
    }
   ],
   "source": [
    "clf_bayes.best_params_[\"alpha\"]"
   ]
  },
  {
   "cell_type": "code",
   "execution_count": 83,
   "id": "793dd192-ffa4-4813-9f2d-1ac31da9f9d6",
   "metadata": {},
   "outputs": [],
   "source": [
    "y_test_predict = clf_bayes.predict(Xtest)"
   ]
  },
  {
   "cell_type": "code",
   "execution_count": 84,
   "id": "f023e629-a806-4ac4-a6da-778567995624",
   "metadata": {},
   "outputs": [
    {
     "data": {
      "text/plain": [
       "5.591320157869809"
      ]
     },
     "execution_count": 84,
     "metadata": {},
     "output_type": "execute_result"
    }
   ],
   "source": [
    "mean_squared_error(y_test_predict,y_test,squared=False)"
   ]
  },
  {
   "cell_type": "markdown",
   "id": "1ae2199e-1794-4650-a436-4aab866d16a9",
   "metadata": {},
   "source": [
    "### We can again take a look at the convergence (not great)"
   ]
  },
  {
   "cell_type": "code",
   "execution_count": 85,
   "id": "e7beee68-8249-40ed-a7ea-e5b35ac37c11",
   "metadata": {
    "tags": []
   },
   "outputs": [
    {
     "data": {
      "image/png": "[encoded data removed]",
      "text/plain": [
       "<Figure size 432x288 with 1 Axes>"
      ]
     },
     "metadata": {
      "needs_background": "light"
     },
     "output_type": "display_data"
    }
   ],
   "source": [
    "_ = plot_convergence(clf_bayes.optimizer_results_[0])"
   ]
  }
 ],
 "metadata": {
  "kernelspec": {
   "display_name": "Python 3 (ipykernel)",
   "language": "python",
   "name": "python3"
  },
  "language_info": {
   "codemirror_mode": {
    "name": "ipython",
    "version": 3
   },
   "file_extension": ".py",
   "mimetype": "text/x-python",
   "name": "python",
   "nbconvert_exporter": "python",
   "pygments_lexer": "ipython3",
   "version": "3.7.3"
  }
 },
 "nbformat": 4,
 "nbformat_minor": 5
}
